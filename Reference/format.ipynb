{
 "cells": [
  {
   "cell_type": "code",
   "execution_count": null,
   "metadata": {},
   "outputs": [],
   "source": [
    "# Does not need to be executed if\n",
    "# ~/.ipython/profile_default/ipython_config.py\n",
    "# exists and contains:\n",
    "# get_config().InteractiveShell.ast_node_interactivity = 'all'\n",
    "\n",
    "from IPython.core.interactiveshell import InteractiveShell\n",
    "InteractiveShell.ast_node_interactivity = 'all'"
   ]
  },
  {
   "cell_type": "markdown",
   "metadata": {},
   "source": [
    "<h1 align=\"center\">Format</h1>"
   ]
  },
  {
   "cell_type": "code",
   "execution_count": null,
   "metadata": {
    "run_control": {
     "marked": true
    }
   },
   "outputs": [],
   "source": [
    "str('0')\n",
    "repr('0')\n",
    "format('0'), '{}'.format('0'), '{!s}'.format('0'), '{!r}'.format('0')"
   ]
  },
  {
   "cell_type": "code",
   "execution_count": null,
   "metadata": {
    "run_control": {
     "marked": true
    }
   },
   "outputs": [],
   "source": [
    "'|{}|{}|{}|'.format('ABC', 1, 1.)\n",
    "'|{2}|{1}|{0}|{1}|{2}|'.format('ABC', 1, 1.)\n",
    "'|{v2}|{0}|{v1}|'.format('ABC', v1=1, v2=1.)\n",
    "'|{1[v11]}|{1[v10]}|{0}|'.format('ABC', {'v10': 1, 'v11': 1.})\n",
    "'|{v1[v11]}|{v1[v10]}|{0[0]}|'.format('ABC', v1={'v10': 1, 'v11': 1.})\n",
    "'|{1[1]}|{1[0]}|{0[1]}|'.format('ABC', [1,  1.])\n",
    "'|{v1[1]}|{v1[0]}|{0[2]}|'.format('ABC', v1=[1,  1.])"
   ]
  },
  {
   "cell_type": "markdown",
   "metadata": {},
   "source": [
    "The general form of a *standard format specifier* is\n",
    "\n",
    "                    [[fill]align][sign][#][0][width][,_][.precision][type]\n",
    "\n",
    "where:\n",
    "* fill is any character,\n",
    "* align is \"<\", \">\", \"=\" or \"^\"\n",
    "* sign is \"+\", \"-\" or \" \"\n",
    "* width and precision are integers\n",
    "* type is \"b\", \"c\", \"d\", \"e\", \"E\", \"f\", \"F\", \"g\", \"G\", \"n\", \"o\", \"s\", \"x\", \"X\" or \"%\""
   ]
  },
  {
   "cell_type": "code",
   "execution_count": null,
   "metadata": {
    "run_control": {
     "marked": true
    }
   },
   "outputs": [],
   "source": [
    "# Can be replaced by:\n",
    "# f\"|{'ABCDE':9s}|{'ABCDE':<9s}|{'ABCDE':>9s}|{'ABCDE':^9s}|\"\n",
    "f\"|{'ABCDE':9}|{'ABCDE':<9}|{'ABCDE':>9}|{'ABCDE':^9}|\"\n",
    "# Can be replaced by:\n",
    "# f\"|{'':9s}|{'ABCDE':_<9s}|{'ABCDE':_>9s}|{'ABCDE':_^9s}|\"\n",
    "f\"|{'':9}|{'ABCDE':_<9}|{'ABCDE':_>9}|{'ABCDE':_^9}|\"\n",
    "# Can be replaced by:\n",
    "# print(f\"|{'ABCDEFGHIJ':.5s}|\")\n",
    "f\"|{'ABCDEFGHIJ':.5}|\""
   ]
  },
  {
   "cell_type": "code",
   "execution_count": null,
   "metadata": {
    "run_control": {
     "marked": true
    }
   },
   "outputs": [],
   "source": [
    "f'|{9731:c}|'\n",
    "f'|{9731:9c}|{9731:<9c}|{9731:>9c}|{9731:^9c}|'\n",
    "f'|{9731:09c}|{9731:_<9c}|{9731:_>9c}|{9731:_^9c}|'"
   ]
  },
  {
   "cell_type": "code",
   "execution_count": null,
   "metadata": {
    "run_control": {
     "marked": true
    }
   },
   "outputs": [],
   "source": [
    "# Can be replaced by either:\n",
    "# f'|{-123:8d}|{-123:<8d}|{-123:>8d}|{-123:=8d}|{-123:^8d}|'\n",
    "# or:\n",
    "# f'|{-123:8n}|{-123:<8n}|{-123:>8n}|{-123:=8n}|{-123:^8n}|'\n",
    "f'|{-123:8}|{-123:<8}|{-123:>8}|{-123:=8}|{-123:^8}|'\n",
    "# Can be replaced by either:\n",
    "# f'|{-123:08d}|{-123:_<8d}|{-123:_>8d}|{-123:_=8d}|{-123:_^8d}|'\n",
    "# or:\n",
    "# f'|{-123:08n}|{-123:_<8n}|{-123:_>8n}|{-123:_=8n}|{-123:_^8n}|'\n",
    "f'|{-123:08}|{-123:_<8}|{-123:_>8}|{-123:_=8}|{-123:_^8}|'\n",
    "# Can be replaced by:\n",
    "# f'{+123:d}|{123:+d}|{123:-d}|{123: d}|'\n",
    "# or:\n",
    "# f'{+123:n}|{123:+n}|{123:-n}|{123: n}|'\n",
    "f'|{+123}|{123:+}|{123:-}|{123: }|'\n",
    "# Can be replaced by either:\n",
    "# f'|{-12345678:,d}|'\n",
    "# or:\n",
    "# f'|{-12345678:,n}|'\n",
    "f'|{-12345678:,}|'\n",
    "f'|{-12345678:_}|{-12345678:_b}|{-12345678:_o}|{-12345678:_x}|{-12345678:_X}|'"
   ]
  },
  {
   "cell_type": "code",
   "execution_count": null,
   "metadata": {
    "run_control": {
     "marked": true
    }
   },
   "outputs": [],
   "source": [
    "f'|{-37:12b}|{-37:<12b}|{-37:>12b}|{-37:=12b}|{-37:^12b}|'\n",
    "f'|{-37:012b}|{-37:_<12b}|{-37:_>12b}|{-37:_=12b}|{-37:_^12b}|'\n",
    "f'|{+37:b}|{37:+b}|{37:-b}|{37: b}|'\n",
    "f'|{-37:#12b}|{-37:<#12b}|{-37:>#12b}|{-37:=#12b}|{-37:^#12b}|'\n",
    "f'|{-37:#012b}|{-37:_<#12b}|{-37:_>#12b}|{-37:_=#12b}|{-37:_^#12b}|'\n",
    "f'|{37:#b}|{37:+#b}|{37:-#b}|{37: #b}|'"
   ]
  },
  {
   "cell_type": "code",
   "execution_count": null,
   "metadata": {
    "run_control": {
     "marked": true
    }
   },
   "outputs": [],
   "source": [
    "f'|{-69:9o}|{-69:<9o}|{-69:>9o}|{-69:=9o}|{-69:^9o}|'\n",
    "f'|{-69:09o}|{-69:_<9o}|{-69:_>9o}|{-69:_=9o}|{-69:_^9o}|'\n",
    "f'|{+69:o}|{69:+o}|{69:-o}|{69: o}|'\n",
    "f'|{-69:#9o}|{-69:<#9o}|{-69:>#9o}|{-69:=#9o}|{-69:^#9o}|'\n",
    "f'|{-69:#09o}|{-69:_<#9o}|{-69:_>#9o}|{-69:_=#9o}|{-69:_^#9o}|'\n",
    "f'|{69:#o}|{69:+#o}|{69:-#o}|{69: #o}|'"
   ]
  },
  {
   "cell_type": "code",
   "execution_count": null,
   "metadata": {
    "run_control": {
     "marked": true
    }
   },
   "outputs": [],
   "source": [
    "f'|{-27:9x}|{-27:<9x}|{-27:>9x}|{-27:=9x}|{-27:^9x}|'\n",
    "f'|{-27:09x}|{-27:_<9x}|{-27:_>9x}|{-27:_=9x}|{-27:_^9x}|'\n",
    "f'|{+27:x}|{27:+x}|{27:-x}|{27: x}|'\n",
    "f'|{-27:#9x}|{-27:<#9x}|{-27:>#9x}|{-27:=#9x}|{-27:^#9x}|'\n",
    "f'|{-27:#09x}|{-27:_<#9x}|{-27:_>#9x}|{-27:_=#9x}|{-27:_^#9x}|'\n",
    "f'|{27:#x}|{27:+#x}|{27:-#x}|{27: #x}|'"
   ]
  },
  {
   "cell_type": "code",
   "execution_count": null,
   "metadata": {
    "run_control": {
     "marked": true
    }
   },
   "outputs": [],
   "source": [
    "f'|{-27:9X}|{-27:<9X}|{-27:>9X}|{-27:=9X}|{-27:^9X}|'\n",
    "f'|{-27:09X}|{-27:_<9X}|{-27:_>9X}|{-27:_=9X}|{-27:_^9X}|'\n",
    "f'|{+27:X}|{27:+X}|{27:-X}|{27: X}|'\n",
    "f'|{-27:#9X}|{-27:<#9X}|{-27:>#9X}|{-27:=#9X}|{-27:^#9X}|'\n",
    "f'|{-27:#09X}|{-27:_<#9X}|{-27:_>#9X}|{-27:_=#9X}|{-27:_^#9X}|'\n",
    "f'|{27:#X}|{27:+#X}|{27:-#X}|{27: #X}|'"
   ]
  },
  {
   "cell_type": "code",
   "execution_count": 8,
   "metadata": {
    "run_control": {
     "marked": true
    }
   },
   "outputs": [
    {
     "data": {
      "text/plain": [
       "'|   -1234.0|-123456789012345.67      |      -1234567890123456.8|-  1.2345678901234568e+16| -1.2345678901234568e+17 |'"
      ]
     },
     "execution_count": 8,
     "metadata": {},
     "output_type": "execute_result"
    },
    {
     "data": {
      "text/plain": [
       "'|-0001234.0|-123456789012345.67______|______-1234567890123456.8|-__1.2345678901234568e+16|_-1.2345678901234568e+17_|'"
      ]
     },
     "execution_count": 8,
     "metadata": {},
     "output_type": "execute_result"
    },
    {
     "data": {
      "text/plain": [
       "'|123456789012345.67|+1234567890123456.8|1.2345678901234568e+16| 1.2345678901234568e+17|'"
      ]
     },
     "execution_count": 8,
     "metadata": {},
     "output_type": "execute_result"
    },
    {
     "data": {
      "text/plain": [
       "'|-12,345.6789|'"
      ]
     },
     "execution_count": 8,
     "metadata": {},
     "output_type": "execute_result"
    },
    {
     "data": {
      "text/plain": [
       "'|-12.346|-1.2346e+17|'"
      ]
     },
     "execution_count": 8,
     "metadata": {},
     "output_type": "execute_result"
    },
    {
     "data": {
      "text/plain": [
       "'|1e+01|1.e+01|'"
      ]
     },
     "execution_count": 8,
     "metadata": {},
     "output_type": "execute_result"
    }
   ],
   "source": [
    "f'|{-1234.:10}|{-123456789012345.6789:<25}|{-1234567890123456.789:>25}|\\\n",
    "{-12345678901234567.89:=25}|{-123456789012345678.9:^25}|'\n",
    "f'|{-1234.:010}|{-123456789012345.6789:_<25}|{-1234567890123456.789:_>25}|\\\n",
    "{-12345678901234567.89:_=25}|{-123456789012345678.9:_^25}|'\n",
    "f'|{+123456789012345.6789}|{1234567890123456.789:+}|{12345678901234567.89:-}|\\\n",
    "{123456789012345678.9: }|'\n",
    "f'|{-12345.6789:,}|'\n",
    "f'|{-12.3456789:.5}|{-123456789012345678.9:.5}|'\n",
    "f'|{12.34:.0}|{12.34:#.0}|'"
   ]
  },
  {
   "cell_type": "code",
   "execution_count": 9,
   "metadata": {
    "run_control": {
     "marked": true
    }
   },
   "outputs": [
    {
     "data": {
      "text/plain": [
       "'|     -12.345679|-12.345679     |     -12.345679|-     12.345679|  -12.345679   |'"
      ]
     },
     "execution_count": 9,
     "metadata": {},
     "output_type": "execute_result"
    },
    {
     "data": {
      "text/plain": [
       "'|-0000012.345679|-12.345679_____|_____-12.345679|-_____12.345679|__-12.345679___|'"
      ]
     },
     "execution_count": 9,
     "metadata": {},
     "output_type": "execute_result"
    },
    {
     "data": {
      "text/plain": [
       "'|123456789.000000|+123456789.000000|123456789.000000| 123456789.000000|'"
      ]
     },
     "execution_count": 9,
     "metadata": {},
     "output_type": "execute_result"
    },
    {
     "data": {
      "text/plain": [
       "'|-12,345.678900|'"
      ]
     },
     "execution_count": 9,
     "metadata": {},
     "output_type": "execute_result"
    },
    {
     "data": {
      "text/plain": [
       "'|-12.34568|'"
      ]
     },
     "execution_count": 9,
     "metadata": {},
     "output_type": "execute_result"
    },
    {
     "data": {
      "text/plain": [
       "'|12|12.|'"
      ]
     },
     "execution_count": 9,
     "metadata": {},
     "output_type": "execute_result"
    }
   ],
   "source": [
    "# Can be replaced by:\n",
    "# f'|{-12.3456789:15F}|{-12.3456789:<15F}|{-12.3456789:>15F}|\\\n",
    "#{-12.3456789:=15F}|{-12.3456789:^15F}|'\n",
    "f'|{-12.3456789:15f}|{-12.3456789:<15f}|{-12.3456789:>15f}|\\\n",
    "{-12.3456789:=15f}|{-12.3456789:^15f}|'\n",
    "# Can be replaced by:\n",
    "# f'|{-12.3456789:015F}|{-12.3456789:_<15F}|{-12.3456789:_>15F}|\\\n",
    "#{-12.3456789:_=15F}|{-12.3456789:_^15F}|'\n",
    "f'|{-12.3456789:015f}|{-12.3456789:_<15f}|{-12.3456789:_>15f}|\\\n",
    "{-12.3456789:_=15f}|{-12.3456789:_^15f}|'\n",
    "# Can be replaced by:\n",
    "# f'|{+123456789.:F}|{123456789.:+F}|{123456789.:-F}|{123456789.: F}|'\n",
    "f'|{+123456789.:f}|{123456789.:+f}|{123456789.:-f}|{123456789.: f}|'\n",
    "# Can be replaced by:\n",
    "# f'|{-12345.6789:,F}|'\n",
    "f'|{-12345.6789:,f}|'\n",
    "# Can be replaced by:\n",
    "# f'|{-12.3456789:.5F}|'\n",
    "f'|{-12.3456789:.5f}|'\n",
    "# Can be replaced by:\n",
    "# f'|{12.34:.0F}|{12.34:#.0F}|'\n",
    "f'|{12.34:.0f}|{12.34:#.0f}|'"
   ]
  },
  {
   "cell_type": "code",
   "execution_count": 11,
   "metadata": {
    "run_control": {
     "marked": true
    }
   },
   "outputs": [
    {
     "data": {
      "text/plain": [
       "'|  -1.234568e+01|-1.234568e+01  |  -1.234568e+01|-  1.234568e+01| -1.234568e+01 |'"
      ]
     },
     "execution_count": 11,
     "metadata": {},
     "output_type": "execute_result"
    },
    {
     "data": {
      "text/plain": [
       "'|  -1.234568E+01|-1.234568E+01  |  -1.234568E+01|-  1.234568E+01| -1.234568E+01 |'"
      ]
     },
     "execution_count": 11,
     "metadata": {},
     "output_type": "execute_result"
    },
    {
     "data": {
      "text/plain": [
       "'|-001.234568e+01|-1.234568e+01__|__-1.234568e+01|-__1.234568e+01|_-1.234568e+01_|'"
      ]
     },
     "execution_count": 11,
     "metadata": {},
     "output_type": "execute_result"
    },
    {
     "data": {
      "text/plain": [
       "'|-001.234568E+01|-1.234568E+01__|__-1.234568E+01|-__1.234568E+01|_-1.234568E+01_|'"
      ]
     },
     "execution_count": 11,
     "metadata": {},
     "output_type": "execute_result"
    },
    {
     "data": {
      "text/plain": [
       "'|1.234568e+01|+1.234568e+01|1.234568e+01| 1.234568e+01|'"
      ]
     },
     "execution_count": 11,
     "metadata": {},
     "output_type": "execute_result"
    },
    {
     "data": {
      "text/plain": [
       "'|1.234568E+01|+1.234568E+01|1.234568E+01| 1.234568E+01|'"
      ]
     },
     "execution_count": 11,
     "metadata": {},
     "output_type": "execute_result"
    },
    {
     "data": {
      "text/plain": [
       "'|-1.23457e+01|'"
      ]
     },
     "execution_count": 11,
     "metadata": {},
     "output_type": "execute_result"
    },
    {
     "data": {
      "text/plain": [
       "'|-1.23457E+01|'"
      ]
     },
     "execution_count": 11,
     "metadata": {},
     "output_type": "execute_result"
    },
    {
     "data": {
      "text/plain": [
       "'|1e+01|1.e+01|'"
      ]
     },
     "execution_count": 11,
     "metadata": {},
     "output_type": "execute_result"
    },
    {
     "data": {
      "text/plain": [
       "'|1E+01|1.E+01|'"
      ]
     },
     "execution_count": 11,
     "metadata": {},
     "output_type": "execute_result"
    }
   ],
   "source": [
    "f'|{-12.3456789:15e}|{-12.3456789:<15e}|{-12.3456789:>15e}|\\\n",
    "{-12.3456789:=15e}|{-12.3456789:^15e}|'\n",
    "f'|{-12.3456789:15E}|{-12.3456789:<15E}|{-12.3456789:>15E}|\\\n",
    "{-12.3456789:=15E}|{-12.3456789:^15E}|'\n",
    "f'|{-12.3456789:015e}|{-12.3456789:_<15e}|{-12.3456789:_>15e}|\\\n",
    "{-12.3456789:_=15e}|{-12.3456789:_^15e}|'\n",
    "f'|{-12.3456789:015E}|{-12.3456789:_<15E}|{-12.3456789:_>15E}|\\\n",
    "{-12.3456789:_=15E}|{-12.3456789:_^15E}|'\n",
    "f'|{+12.3456789:e}|{12.3456789:+e}|{12.3456789:-e}|{12.3456789: e}|'\n",
    "f'|{+12.3456789:E}|{12.3456789:+E}|{12.3456789:-E}|{12.3456789: E}|'\n",
    "f'|{-12.3456789:.5e}|'\n",
    "f'|{-12.3456789:.5E}|'\n",
    "f'|{12.34:.0e}|{12.34:#.0e}|'\n",
    "f'|{12.34:.0E}|{12.34:#.0E}|'"
   ]
  },
  {
   "cell_type": "code",
   "execution_count": 12,
   "metadata": {
    "run_control": {
     "marked": true
    }
   },
   "outputs": [
    {
     "data": {
      "text/plain": [
       "'|          -1234|-12345.7       |        -123457|-   1.23457e+06| -1.23457e+07  |'"
      ]
     },
     "execution_count": 12,
     "metadata": {},
     "output_type": "execute_result"
    },
    {
     "data": {
      "text/plain": [
       "'|          -1234|-12345.7       |        -123457|-   1.23457E+06| -1.23457E+07  |'"
      ]
     },
     "execution_count": 12,
     "metadata": {},
     "output_type": "execute_result"
    },
    {
     "data": {
      "text/plain": [
       "'|-00000001234.57|-12345.7_______|________-123457|-___1.23457e+06|_-1.23457e+07__|'"
      ]
     },
     "execution_count": 12,
     "metadata": {},
     "output_type": "execute_result"
    },
    {
     "data": {
      "text/plain": [
       "'|-00000001234.57|-12345.7_______|________-123457|-___1.23457E+06|_-1.23457E+07__|'"
      ]
     },
     "execution_count": 12,
     "metadata": {},
     "output_type": "execute_result"
    },
    {
     "data": {
      "text/plain": [
       "'|1234.57|+12345.7|123457| 1.23457e+06|'"
      ]
     },
     "execution_count": 12,
     "metadata": {},
     "output_type": "execute_result"
    },
    {
     "data": {
      "text/plain": [
       "'|1234.57|+12345.7|123457| 1.23457E+06|'"
      ]
     },
     "execution_count": 12,
     "metadata": {},
     "output_type": "execute_result"
    },
    {
     "data": {
      "text/plain": [
       "'|-12.346|-1.2346e+06|'"
      ]
     },
     "execution_count": 12,
     "metadata": {},
     "output_type": "execute_result"
    },
    {
     "data": {
      "text/plain": [
       "'|-12.346|-1.2346E+06|'"
      ]
     },
     "execution_count": 12,
     "metadata": {},
     "output_type": "execute_result"
    },
    {
     "data": {
      "text/plain": [
       "'|12|12.0000|1e+07|1.00000e+07|'"
      ]
     },
     "execution_count": 12,
     "metadata": {},
     "output_type": "execute_result"
    },
    {
     "data": {
      "text/plain": [
       "'|12|12.0000|1E+07|1.00000E+07|'"
      ]
     },
     "execution_count": 12,
     "metadata": {},
     "output_type": "execute_result"
    }
   ],
   "source": [
    "f'|{-1234.:15g}|{-12345.6789:<15g}|{-123456.789:>15g}|\\\n",
    "{-1234567.89:=15g}|{-12345678.9:^15g}|'\n",
    "f'|{-1234.:15G}|{-12345.6789:<15G}|{-123456.789:>15G}|\\\n",
    "{-1234567.89:=15G}|{-12345678.9:^15G}|'\n",
    "f'|{-1234.56789:015g}|{-12345.6789:_<15g}|{-123456.789:_>15g}|\\\n",
    "{-1234567.89:_=15g}|{-12345678.9:_^15g}|'\n",
    "f'|{-1234.56789:015G}|{-12345.6789:_<15G}|{-123456.789:_>15G}|\\\n",
    "{-1234567.89:_=15G}|{-12345678.9:_^15G}|'\n",
    "f'|{+1234.56789:g}|{12345.6789:+g}|{123456.789:-g}|{1234567.89: g}|'\n",
    "f'|{+1234.56789:G}|{12345.6789:+G}|{123456.789:-G}|{1234567.89: G}|'\n",
    "f'|{-12.3456789:.5g}|{-1234567.89:.5g}|'\n",
    "f'|{-12.3456789:.5G}|{-1234567.89:.5G}|'\n",
    "f'|{12.:g}|{12.:#g}|{10000000:g}|{10000000:#g}|'\n",
    "f'|{12.:G}|{12.:#G}|{10000000:G}|{10000000:#G}|'"
   ]
  },
  {
   "cell_type": "code",
   "execution_count": null,
   "metadata": {
    "run_control": {
     "marked": true
    }
   },
   "outputs": [],
   "source": [
    "f'|{-12.3456789:15%}|{-12.3456789:<15%}|{-12.3456789:>15%}|\\\n",
    "{-12.3456789:=15%}|{-12.3456789:^15%}|'\n",
    "f'|{-12.3456789:015%}|{-12.3456789:_<15%}|{-12.3456789:_>15%}|\\\n",
    "{-12.3456789:_=15%}|{-12.3456789:_^15%}|'\n",
    "f'|{+12.345:%}|{12.345:+%}|{12.345:-%}|{12.345: %}|'\n",
    "f'|{-12345.6789:,%}|'\n",
    "f'|{-12.3456789:.5%}|'"
   ]
  },
  {
   "cell_type": "code",
   "execution_count": null,
   "metadata": {
    "run_control": {
     "marked": true
    }
   },
   "outputs": [],
   "source": [
    "f\"{float('inf')}\"\n",
    "f\"{float('Nan')}\"\n",
    "f\"{float('inf'):f} {float('Nan'):f}\"\n",
    "f\"{float('inf'):F} {float('Nan'):F}\"\n",
    "f\"{float('inf'):e} {float('Nan'):e}\"\n",
    "f\"{float('inf'):E} {float('Nan'):E}\"\n",
    "f\"{float('inf'):g} {float('Nan'):g}\"\n",
    "f\"{float('inf'):G} {float('Nan'):G}\""
   ]
  }
 ],
 "metadata": {
  "kernelspec": {
   "display_name": "Python 3",
   "language": "python",
   "name": "python3"
  },
  "language_info": {
   "codemirror_mode": {
    "name": "ipython",
    "version": 3
   },
   "file_extension": ".py",
   "mimetype": "text/x-python",
   "name": "python",
   "nbconvert_exporter": "python",
   "pygments_lexer": "ipython3",
   "version": "3.7.4"
  },
  "latex_envs": {
   "LaTeX_envs_menu_present": true,
   "autoclose": false,
   "autocomplete": true,
   "bibliofile": "biblio.bib",
   "cite_by": "apalike",
   "current_citInitial": 1,
   "eqLabelWithNumbers": true,
   "eqNumInitial": 1,
   "hotkeys": {
    "equation": "Ctrl-E",
    "itemize": "Ctrl-I"
   },
   "labels_anchors": false,
   "latex_user_defs": false,
   "report_style_numbering": false,
   "user_envs_cfg": false
  },
  "toc": {
   "base_numbering": 1,
   "nav_menu": {},
   "number_sections": false,
   "sideBar": true,
   "skip_h1_title": false,
   "title_cell": "Table of Contents",
   "title_sidebar": "Contents",
   "toc_cell": false,
   "toc_position": {},
   "toc_section_display": true,
   "toc_window_display": false
  }
 },
 "nbformat": 4,
 "nbformat_minor": 1
}
