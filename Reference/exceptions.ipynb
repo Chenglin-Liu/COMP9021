{
 "cells": [
  {
   "cell_type": "code",
   "execution_count": null,
   "metadata": {},
   "outputs": [],
   "source": [
    "# Does not need to be executed if\n",
    "# ~/.ipython/profile_default/ipython_config.py\n",
    "# exists and contains:\n",
    "# get_config().InteractiveShell.ast_node_interactivity = 'all'\n",
    "\n",
    "from IPython.core.interactiveshell import InteractiveShell\n",
    "InteractiveShell.ast_node_interactivity = 'all'"
   ]
  },
  {
   "cell_type": "markdown",
   "metadata": {},
   "source": [
    "<h1 align=\"center\">Exceptions</h1>"
   ]
  },
  {
   "cell_type": "raw",
   "metadata": {},
   "source": [
    "Form without except:\n",
    "\n",
    "try:\n",
    "    statements\n",
    "finally:\n",
    "    statements\n",
    "    \n",
    "\n",
    "Form with except:\n",
    "\n",
    "try:\n",
    "    statements\n",
    "except [type [as value]]:\n",
    "    statements\n",
    "[except [type [as value]]:\n",
    "    statements]*\n",
    "[else:\n",
    "    statements]\n",
    "[finally:\n",
    "    statements]"
   ]
  },
  {
   "cell_type": "code",
   "execution_count": null,
   "metadata": {
    "run_control": {
     "marked": true
    }
   },
   "outputs": [],
   "source": [
    "class cello :\n",
    "    pass\n",
    "\n",
    "strings = ('\"hello\"',\n",
    "           'hello',\n",
    "           '\"hello\" + 2',\n",
    "           '\"hello\"[5]',\n",
    "           '{\"hello\": 0}[\"hi\"]',\n",
    "           'cello.pitch',\n",
    "           'open(\"hello.txt\")'\n",
    "          )\n",
    "\n",
    "from random import choice\n",
    "\n",
    "try:\n",
    "    string = choice(strings)\n",
    "    print(string)\n",
    "    exec(string)\n",
    "finally:\n",
    "    print('Output in any case')"
   ]
  },
  {
   "cell_type": "code",
   "execution_count": null,
   "metadata": {
    "run_control": {
     "marked": true
    }
   },
   "outputs": [],
   "source": [
    "strings = ('\"hello\"',\n",
    "           'hello',\n",
    "           '\"hello\" + 2',\n",
    "           '\"hello\"[5]',\n",
    "           '{\"hello\": 0}[\"hi\"]',\n",
    "           'class cello : {} ; cello.pitch',\n",
    "           'open(\"hello.txt\")'\n",
    "          )\n",
    "\n",
    "from random import choice\n",
    "\n",
    "try:\n",
    "    string = choice(strings)\n",
    "    print(string)\n",
    "    exec(string)\n",
    "except NameError:\n",
    "    print('NameError!')\n",
    "except TypeError as e:\n",
    "    print('TypeError!')\n",
    "    print(e)\n",
    "except (IndexError, KeyError):\n",
    "    print('IndexError or KeyError!')\n",
    "except:\n",
    "    print('Any other error...')\n",
    "else:\n",
    "    print('All good, no error.')\n",
    "finally:\n",
    "    print('Output in any case')"
   ]
  },
  {
   "cell_type": "code",
   "execution_count": null,
   "metadata": {
    "run_control": {
     "marked": true
    }
   },
   "outputs": [],
   "source": [
    "try:\n",
    "    hello\n",
    "except NameError:\n",
    "    try:\n",
    "        'hello'[5]\n",
    "    except IndexError:\n",
    "        try:\n",
    "            {\"hello\": 0}[\"hi\"]\n",
    "        except KeyError as e:\n",
    "            raise ZeroDivisionError from e"
   ]
  },
  {
   "cell_type": "code",
   "execution_count": null,
   "metadata": {
    "run_control": {
     "marked": true
    }
   },
   "outputs": [],
   "source": [
    "try:\n",
    "    1 / 0\n",
    "except ZeroDivisionError:\n",
    "    raise ZeroDivisionError('I shall not divide by 0!') from None"
   ]
  }
 ],
 "metadata": {
  "kernelspec": {
   "display_name": "Python 3",
   "language": "python",
   "name": "python3"
  },
  "language_info": {
   "codemirror_mode": {
    "name": "ipython",
    "version": 3
   },
   "file_extension": ".py",
   "mimetype": "text/x-python",
   "name": "python",
   "nbconvert_exporter": "python",
   "pygments_lexer": "ipython3",
   "version": "3.7.4"
  },
  "latex_envs": {
   "LaTeX_envs_menu_present": true,
   "autoclose": false,
   "autocomplete": true,
   "bibliofile": "biblio.bib",
   "cite_by": "apalike",
   "current_citInitial": 1,
   "eqLabelWithNumbers": true,
   "eqNumInitial": 1,
   "hotkeys": {
    "equation": "Ctrl-E",
    "itemize": "Ctrl-I"
   },
   "labels_anchors": false,
   "latex_user_defs": false,
   "report_style_numbering": false,
   "user_envs_cfg": false
  },
  "toc": {
   "base_numbering": 1,
   "nav_menu": {},
   "number_sections": false,
   "sideBar": true,
   "skip_h1_title": false,
   "title_cell": "Table of Contents",
   "title_sidebar": "Contents",
   "toc_cell": false,
   "toc_position": {},
   "toc_section_display": true,
   "toc_window_display": false
  }
 },
 "nbformat": 4,
 "nbformat_minor": 1
}
