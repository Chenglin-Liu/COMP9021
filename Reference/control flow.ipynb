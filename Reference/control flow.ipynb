{
 "cells": [
  {
   "cell_type": "markdown",
   "metadata": {},
   "source": [
    "<h1 align=\"center\">Control flow</h1>"
   ]
  },
  {
   "cell_type": "code",
   "execution_count": null,
   "metadata": {
    "init_cell": true
   },
   "outputs": [],
   "source": [
    "from random import randrange"
   ]
  },
  {
   "cell_type": "code",
   "execution_count": null,
   "metadata": {
    "run_control": {
     "marked": true
    }
   },
   "outputs": [],
   "source": [
    "for _ in range(7):\n",
    "    generated_number = randrange(-10, 60)\n",
    "    print('Generated number:', generated_number)\n",
    "    if generated_number < 0:\n",
    "        continue\n",
    "    if generated_number >= 50:\n",
    "        break\n",
    "    print('\\tUnless it is a single digit, will determine '\n",
    "          'what it is equal to modulo 4'\n",
    "         )\n",
    "    if generated_number < 10:\n",
    "        pass\n",
    "    elif generated_number % 4 == 1:\n",
    "        print('\\tEqual to one modulo four')\n",
    "    elif generated_number % 4 == 2:\n",
    "        print('\\tEqual to two modulo four')\n",
    "    elif generated_number % 4 == 3:\n",
    "        print('\\tEqual to three modulo four')\n",
    "    else:\n",
    "        print('\\tDivisible by four')\n",
    "else:\n",
    "    print('No number greater than 49 has been generated')"
   ]
  },
  {
   "cell_type": "code",
   "execution_count": null,
   "metadata": {
    "run_control": {
     "marked": true
    }
   },
   "outputs": [],
   "source": [
    "count_down = 7\n",
    "while count_down:\n",
    "    count_down -= 1\n",
    "    generated_number = randrange(-10, 60)\n",
    "    print('Generated number:', generated_number)\n",
    "    if generated_number < 0:\n",
    "        continue\n",
    "    if generated_number >= 50:\n",
    "        break\n",
    "    print('\\tUnless it is a single digit, will determine '\n",
    "          'what it is equal to modulo 4'\n",
    "         )\n",
    "    if generated_number < 10:\n",
    "        pass\n",
    "    elif generated_number % 4 == 1:\n",
    "        print('\\tEqual to one modulo four')\n",
    "    elif generated_number % 4 == 2:\n",
    "        print('\\tEqual to two modulo four')\n",
    "    elif generated_number % 4 == 3:\n",
    "        print('\\tEqual to three modulo four')\n",
    "    else:\n",
    "        print('\\tDivisible by four')\n",
    "else:\n",
    "    print('No number greater than 49 has been generated')"
   ]
  },
  {
   "cell_type": "code",
   "execution_count": null,
   "metadata": {
    "run_control": {
     "marked": true
    }
   },
   "outputs": [],
   "source": [
    "for x in range(5):\n",
    "    for y in range(5, 0, -1):\n",
    "        print(x, y, end='\\t') if x > y else print(y, x, end='\\t')\n",
    "    print()"
   ]
  },
  {
   "cell_type": "code",
   "execution_count": null,
   "metadata": {
    "code_folding": [],
    "run_control": {
     "marked": true
    }
   },
   "outputs": [],
   "source": [
    "for x, y in zip((range(5)), (range(5, 0, -1))):\n",
    "    print(x, y, end='\\t') if x > y else print(y, x, end='\\t')"
   ]
  }
 ],
 "metadata": {
  "kernelspec": {
   "display_name": "Python 3",
   "language": "python",
   "name": "python3"
  },
  "language_info": {
   "codemirror_mode": {
    "name": "ipython",
    "version": 3
   },
   "file_extension": ".py",
   "mimetype": "text/x-python",
   "name": "python",
   "nbconvert_exporter": "python",
   "pygments_lexer": "ipython3",
   "version": "3.7.4"
  },
  "latex_envs": {
   "LaTeX_envs_menu_present": true,
   "autoclose": false,
   "autocomplete": true,
   "bibliofile": "biblio.bib",
   "cite_by": "apalike",
   "current_citInitial": 1,
   "eqLabelWithNumbers": true,
   "eqNumInitial": 1,
   "hotkeys": {
    "equation": "Ctrl-E",
    "itemize": "Ctrl-I"
   },
   "labels_anchors": false,
   "latex_user_defs": false,
   "report_style_numbering": false,
   "user_envs_cfg": false
  },
  "toc": {
   "base_numbering": 1,
   "nav_menu": {},
   "number_sections": false,
   "sideBar": true,
   "skip_h1_title": false,
   "title_cell": "Table of Contents",
   "title_sidebar": "Contents",
   "toc_cell": false,
   "toc_position": {},
   "toc_section_display": true,
   "toc_window_display": false
  }
 },
 "nbformat": 4,
 "nbformat_minor": 1
}
