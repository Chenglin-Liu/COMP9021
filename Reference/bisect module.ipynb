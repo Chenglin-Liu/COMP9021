{
 "cells": [
  {
   "cell_type": "code",
   "execution_count": null,
   "metadata": {},
   "outputs": [],
   "source": [
    "# Does not need to be executed if\n",
    "# ~/.ipython/profile_default/ipython_config.py\n",
    "# exists and contains:\n",
    "# get_config().InteractiveShell.ast_node_interactivity = 'all'\n",
    "\n",
    "from IPython.core.interactiveshell import InteractiveShell\n",
    "InteractiveShell.ast_node_interactivity = 'all'"
   ]
  },
  {
   "cell_type": "markdown",
   "metadata": {},
   "source": [
    "<h1 align=\"center\">Bisect module</h1>"
   ]
  },
  {
   "cell_type": "code",
   "execution_count": null,
   "metadata": {
    "init_cell": true
   },
   "outputs": [],
   "source": [
    "import bisect"
   ]
  },
  {
   "cell_type": "code",
   "execution_count": null,
   "metadata": {},
   "outputs": [],
   "source": [
    "bisect.bisect_right?"
   ]
  },
  {
   "cell_type": "code",
   "execution_count": null,
   "metadata": {
    "run_control": {
     "marked": true
    }
   },
   "outputs": [],
   "source": [
    "L = 1, 1, 1, 2, 2, 2, 3, 3, 3\n",
    "\n",
    "# bisect is an alias for bisect_right\n",
    "bisect.bisect(L, 0)\n",
    "bisect.bisect(L, 1)\n",
    "bisect.bisect(L, 4)\n",
    "bisect.bisect_right(L, 2)\n",
    "bisect.bisect_right(L, 2, 7)\n",
    "bisect.bisect_right(L, 2, 0, 5)"
   ]
  },
  {
   "cell_type": "code",
   "execution_count": null,
   "metadata": {},
   "outputs": [],
   "source": [
    "bisect.bisect_left?"
   ]
  },
  {
   "cell_type": "code",
   "execution_count": null,
   "metadata": {
    "run_control": {
     "marked": true
    }
   },
   "outputs": [],
   "source": [
    "L = 1, 1, 1, 2, 2, 2, 3, 3, 3\n",
    "\n",
    "bisect.bisect_left(L, 0)\n",
    "bisect.bisect_left(L, 1)\n",
    "bisect.bisect_left(L, 4)\n",
    "bisect.bisect_left(L, 2)\n",
    "bisect.bisect_left(L, 2, 4)\n",
    "bisect.bisect_left(L, 2, 0, 2)"
   ]
  },
  {
   "cell_type": "code",
   "execution_count": null,
   "metadata": {},
   "outputs": [],
   "source": [
    "bisect.insort_right?"
   ]
  },
  {
   "cell_type": "code",
   "execution_count": null,
   "metadata": {
    "run_control": {
     "marked": true
    }
   },
   "outputs": [],
   "source": [
    "L = [[1]]\n",
    "N = [0, 1, 2, 0, 1, 2]\n",
    "E = [1]\n",
    "\n",
    "# insort is an alias for insort_right\n",
    "bisect.insort(L, [0]); L\n",
    "bisect.insort(L, [2]); L\n",
    "bisect.insort_right(L, E); L\n",
    "id(E), [id(E) for E in L]\n",
    "bisect.insort_right(N, 2, 3); N\n",
    "bisect.insort_right(N, 2, 3, 4); N"
   ]
  },
  {
   "cell_type": "code",
   "execution_count": null,
   "metadata": {},
   "outputs": [],
   "source": [
    "bisect.insort_left?"
   ]
  },
  {
   "cell_type": "code",
   "execution_count": null,
   "metadata": {
    "run_control": {
     "marked": true
    }
   },
   "outputs": [],
   "source": [
    "L = [[0], [1], [1], [2]]\n",
    "N = [0, 1, 2, 0, 2, 1, 2, 2]\n",
    "E = [1]\n",
    "\n",
    "bisect.insort_left(L, E); L\n",
    "id(E), [id(E) for E in L]\n",
    "bisect.insort_left(L, 1, 7); L\n",
    "bisect.insort_left(L, 1, 3, 3); L"
   ]
  }
 ],
 "metadata": {
  "kernelspec": {
   "display_name": "Python 3",
   "language": "python",
   "name": "python3"
  },
  "language_info": {
   "codemirror_mode": {
    "name": "ipython",
    "version": 3
   },
   "file_extension": ".py",
   "mimetype": "text/x-python",
   "name": "python",
   "nbconvert_exporter": "python",
   "pygments_lexer": "ipython3",
   "version": "3.7.4"
  },
  "latex_envs": {
   "LaTeX_envs_menu_present": true,
   "autoclose": false,
   "autocomplete": true,
   "bibliofile": "biblio.bib",
   "cite_by": "apalike",
   "current_citInitial": 1,
   "eqLabelWithNumbers": true,
   "eqNumInitial": 1,
   "hotkeys": {
    "equation": "Ctrl-E",
    "itemize": "Ctrl-I"
   },
   "labels_anchors": false,
   "latex_user_defs": false,
   "report_style_numbering": false,
   "user_envs_cfg": false
  },
  "toc": {
   "base_numbering": 1,
   "nav_menu": {},
   "number_sections": false,
   "sideBar": true,
   "skip_h1_title": false,
   "title_cell": "Table of Contents",
   "title_sidebar": "Contents",
   "toc_cell": false,
   "toc_position": {},
   "toc_section_display": true,
   "toc_window_display": false
  }
 },
 "nbformat": 4,
 "nbformat_minor": 2
}
